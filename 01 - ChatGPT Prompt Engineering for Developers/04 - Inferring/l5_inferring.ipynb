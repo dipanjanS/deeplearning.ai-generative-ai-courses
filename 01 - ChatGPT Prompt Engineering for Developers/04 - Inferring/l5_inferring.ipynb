{
  "cells": [
    {
      "cell_type": "markdown",
      "metadata": {
        "id": "view-in-github",
        "colab_type": "text"
      },
      "source": [
        "<a href=\"https://colab.research.google.com/github/dipanjanS/deeplearning.ai-generative-ai-courses/blob/main/01%20-%20ChatGPT%20Prompt%20Engineering%20for%20Developers/04%20-%20Inferring/l5_inferring.ipynb\" target=\"_parent\"><img src=\"https://colab.research.google.com/assets/colab-badge.svg\" alt=\"Open In Colab\"/></a>"
      ]
    },
    {
      "cell_type": "markdown",
      "id": "3630c235-f891-4874-bd0a-5277d4d6aa82",
      "metadata": {
        "id": "3630c235-f891-4874-bd0a-5277d4d6aa82"
      },
      "source": [
        "# Inferring\n",
        "In this lesson, you will infer sentiment and topics from product reviews and news articles.\n",
        "\n",
        "## Setup"
      ]
    },
    {
      "cell_type": "code",
      "source": [
        "!pip install -q openai==0.28\n",
        "!pip install -q python-dotenv"
      ],
      "metadata": {
        "colab": {
          "base_uri": "https://localhost:8080/"
        },
        "id": "bpjgn3AMKUtV",
        "outputId": "3485917d-3042-4128-dd42-dc5c58d123a1"
      },
      "id": "bpjgn3AMKUtV",
      "execution_count": 1,
      "outputs": [
        {
          "output_type": "stream",
          "name": "stdout",
          "text": [
            "\u001b[?25l     \u001b[90m━━━━━━━━━━━━━━━━━━━━━━━━━━━━━━━━━━━━━━━━\u001b[0m \u001b[32m0.0/76.5 kB\u001b[0m \u001b[31m?\u001b[0m eta \u001b[36m-:--:--\u001b[0m\r\u001b[2K     \u001b[91m━━━━━━━━━━━━━━━━\u001b[0m\u001b[90m╺\u001b[0m\u001b[90m━━━━━━━━━━━━━━━━━━━━━━━\u001b[0m \u001b[32m30.7/76.5 kB\u001b[0m \u001b[31m825.2 kB/s\u001b[0m eta \u001b[36m0:00:01\u001b[0m\r\u001b[2K     \u001b[90m━━━━━━━━━━━━━━━━━━━━━━━━━━━━━━━━━━━━━━━━\u001b[0m \u001b[32m76.5/76.5 kB\u001b[0m \u001b[31m989.9 kB/s\u001b[0m eta \u001b[36m0:00:00\u001b[0m\n",
            "\u001b[?25h"
          ]
        }
      ]
    },
    {
      "cell_type": "code",
      "execution_count": 2,
      "id": "39689e67",
      "metadata": {
        "height": 132,
        "id": "39689e67"
      },
      "outputs": [],
      "source": [
        "import openai\n",
        "import os\n",
        "\n",
        "from dotenv import load_dotenv, find_dotenv\n",
        "_ = load_dotenv(find_dotenv()) # read local .env file\n",
        "\n",
        "openai.api_key  = os.getenv('OPENAI_API_KEY')"
      ]
    },
    {
      "cell_type": "code",
      "execution_count": 3,
      "id": "e82f5577",
      "metadata": {
        "height": 149,
        "id": "e82f5577"
      },
      "outputs": [],
      "source": [
        "def get_completion(prompt, model=\"gpt-3.5-turbo\"):\n",
        "    messages = [{\"role\": \"user\", \"content\": prompt}]\n",
        "    response = openai.ChatCompletion.create(\n",
        "        model=model,\n",
        "        messages=messages,\n",
        "        temperature=0, # this is the degree of randomness of the model's output\n",
        "    )\n",
        "    return response.choices[0].message[\"content\"]"
      ]
    },
    {
      "cell_type": "markdown",
      "id": "51d2fdfa-c99f-4750-8574-dba7712cd7f0",
      "metadata": {
        "id": "51d2fdfa-c99f-4750-8574-dba7712cd7f0"
      },
      "source": [
        "## Product review text"
      ]
    },
    {
      "cell_type": "code",
      "execution_count": 4,
      "id": "b0f3b49b",
      "metadata": {
        "height": 200,
        "id": "b0f3b49b"
      },
      "outputs": [],
      "source": [
        "lamp_review = \"\"\"\n",
        "Needed a nice lamp for my bedroom, and this one had \\\n",
        "additional storage and not too high of a price point. \\\n",
        "Got it fast.  The string to our lamp broke during the \\\n",
        "transit and the company happily sent over a new one. \\\n",
        "Came within a few days as well. It was easy to put \\\n",
        "together.  I had a missing part, so I contacted their \\\n",
        "support and they very quickly got me the missing piece! \\\n",
        "Lumina seems to me to be a great company that cares \\\n",
        "about their customers and products!!\n",
        "\"\"\""
      ]
    },
    {
      "cell_type": "markdown",
      "id": "30d6e4bd-3337-45a3-8c99-a734cdd06743",
      "metadata": {
        "id": "30d6e4bd-3337-45a3-8c99-a734cdd06743"
      },
      "source": [
        "## Sentiment (positive/negative)"
      ]
    },
    {
      "cell_type": "code",
      "execution_count": 5,
      "id": "e3157601",
      "metadata": {
        "height": 149,
        "colab": {
          "base_uri": "https://localhost:8080/"
        },
        "id": "e3157601",
        "outputId": "876cf4f9-e397-48d7-d6f7-13d358f0d97e"
      },
      "outputs": [
        {
          "output_type": "stream",
          "name": "stdout",
          "text": [
            "The sentiment of the product review is positive. The reviewer is satisfied with the lamp they purchased, mentioning the additional storage, reasonable price, fast delivery, good customer service, and ease of assembly. They also praise the company for caring about their customers and products.\n"
          ]
        }
      ],
      "source": [
        "prompt = f\"\"\"\n",
        "What is the sentiment of the following product review,\n",
        "which is delimited with triple backticks?\n",
        "\n",
        "Review text: '''{lamp_review}'''\n",
        "\"\"\"\n",
        "response = get_completion(prompt)\n",
        "print(response)"
      ]
    },
    {
      "cell_type": "code",
      "execution_count": 6,
      "id": "acf9ca16",
      "metadata": {
        "height": 200,
        "colab": {
          "base_uri": "https://localhost:8080/"
        },
        "id": "acf9ca16",
        "outputId": "4dc69a08-b996-458c-993c-f3a738d161d1"
      },
      "outputs": [
        {
          "output_type": "stream",
          "name": "stdout",
          "text": [
            "Positive\n"
          ]
        }
      ],
      "source": [
        "prompt = f\"\"\"\n",
        "What is the sentiment of the following product review,\n",
        "which is delimited with triple backticks?\n",
        "\n",
        "Give your answer as a single word, either \"positive\" \\\n",
        "or \"negative\".\n",
        "\n",
        "Review text: '''{lamp_review}'''\n",
        "\"\"\"\n",
        "response = get_completion(prompt)\n",
        "print(response)"
      ]
    },
    {
      "cell_type": "markdown",
      "id": "81d2a973-1fa4-4a35-ae35-a2e746c0e91b",
      "metadata": {
        "id": "81d2a973-1fa4-4a35-ae35-a2e746c0e91b"
      },
      "source": [
        "## Identify types of emotions"
      ]
    },
    {
      "cell_type": "code",
      "execution_count": 7,
      "id": "8aa7934b",
      "metadata": {
        "height": 183,
        "colab": {
          "base_uri": "https://localhost:8080/"
        },
        "id": "8aa7934b",
        "outputId": "aab02f89-80c5-4f3b-8954-60496f25696d"
      },
      "outputs": [
        {
          "output_type": "stream",
          "name": "stdout",
          "text": [
            "happy, satisfied, grateful, impressed, content\n"
          ]
        }
      ],
      "source": [
        "prompt = f\"\"\"\n",
        "Identify a list of emotions that the writer of the \\\n",
        "following review is expressing. Include no more than \\\n",
        "five items in the list. Format your answer as a list of \\\n",
        "lower-case words separated by commas.\n",
        "\n",
        "Review text: '''{lamp_review}'''\n",
        "\"\"\"\n",
        "response = get_completion(prompt)\n",
        "print(response)"
      ]
    },
    {
      "cell_type": "markdown",
      "id": "a428d093-51c9-461c-b41e-114e80876409",
      "metadata": {
        "id": "a428d093-51c9-461c-b41e-114e80876409"
      },
      "source": [
        "## Identify anger"
      ]
    },
    {
      "cell_type": "code",
      "execution_count": 8,
      "id": "dba1a538",
      "metadata": {
        "height": 166,
        "colab": {
          "base_uri": "https://localhost:8080/"
        },
        "id": "dba1a538",
        "outputId": "d72ebb72-38dc-40df-c7a1-d7f057c82d28"
      },
      "outputs": [
        {
          "output_type": "stream",
          "name": "stdout",
          "text": [
            "No\n"
          ]
        }
      ],
      "source": [
        "prompt = f\"\"\"\n",
        "Is the writer of the following review expressing anger?\\\n",
        "The review is delimited with triple backticks. \\\n",
        "Give your answer as either yes or no.\n",
        "\n",
        "Review text: '''{lamp_review}'''\n",
        "\"\"\"\n",
        "response = get_completion(prompt)\n",
        "print(response)"
      ]
    },
    {
      "cell_type": "markdown",
      "id": "936a771e-ca78-4e55-8088-2da6f3820ddc",
      "metadata": {
        "id": "936a771e-ca78-4e55-8088-2da6f3820ddc"
      },
      "source": [
        "## Extract product and company name from customer reviews"
      ]
    },
    {
      "cell_type": "code",
      "execution_count": 9,
      "id": "a13bea1b",
      "metadata": {
        "height": 285,
        "colab": {
          "base_uri": "https://localhost:8080/"
        },
        "id": "a13bea1b",
        "outputId": "53a8f4ac-b470-466d-eefc-5e783c3e4fc2"
      },
      "outputs": [
        {
          "output_type": "stream",
          "name": "stdout",
          "text": [
            "{\n",
            "  \"Item\": \"lamp\",\n",
            "  \"Brand\": \"Lumina\"\n",
            "}\n"
          ]
        }
      ],
      "source": [
        "prompt = f\"\"\"\n",
        "Identify the following items from the review text:\n",
        "- Item purchased by reviewer\n",
        "- Company that made the item\n",
        "\n",
        "The review is delimited with triple backticks. \\\n",
        "Format your response as a JSON object with \\\n",
        "\"Item\" and \"Brand\" as the keys.\n",
        "If the information isn't present, use \"unknown\" \\\n",
        "as the value.\n",
        "Make your response as short as possible.\n",
        "\n",
        "Review text: '''{lamp_review}'''\n",
        "\"\"\"\n",
        "response = get_completion(prompt)\n",
        "print(response)"
      ]
    },
    {
      "cell_type": "markdown",
      "id": "a38880a5-088f-4609-9913-f8fa41fb7ba0",
      "metadata": {
        "id": "a38880a5-088f-4609-9913-f8fa41fb7ba0"
      },
      "source": [
        "## Doing multiple tasks at once"
      ]
    },
    {
      "cell_type": "code",
      "execution_count": 10,
      "id": "e7dda9e5",
      "metadata": {
        "height": 336,
        "colab": {
          "base_uri": "https://localhost:8080/"
        },
        "id": "e7dda9e5",
        "outputId": "e9828196-cc9c-4304-d510-17912740bb81"
      },
      "outputs": [
        {
          "output_type": "stream",
          "name": "stdout",
          "text": [
            "{\n",
            "    \"Sentiment\": \"positive\",\n",
            "    \"Anger\": false,\n",
            "    \"Item\": \"lamp\",\n",
            "    \"Brand\": \"Lumina\"\n",
            "}\n"
          ]
        }
      ],
      "source": [
        "prompt = f\"\"\"\n",
        "Identify the following items from the review text:\n",
        "- Sentiment (positive or negative)\n",
        "- Is the reviewer expressing anger? (true or false)\n",
        "- Item purchased by reviewer\n",
        "- Company that made the item\n",
        "\n",
        "The review is delimited with triple backticks. \\\n",
        "Format your response as a JSON object with \\\n",
        "\"Sentiment\", \"Anger\", \"Item\" and \"Brand\" as the keys.\n",
        "If the information isn't present, use \"unknown\" \\\n",
        "as the value.\n",
        "Make your response as short as possible.\n",
        "Format the Anger value as a boolean.\n",
        "\n",
        "Review text: '''{lamp_review}'''\n",
        "\"\"\"\n",
        "response = get_completion(prompt)\n",
        "print(response)"
      ]
    },
    {
      "cell_type": "markdown",
      "id": "235fc223-2c89-49ec-ac2d-78a8e74a43ac",
      "metadata": {
        "id": "235fc223-2c89-49ec-ac2d-78a8e74a43ac"
      },
      "source": [
        "## Inferring topics"
      ]
    },
    {
      "cell_type": "code",
      "execution_count": 11,
      "id": "8a74cc3e",
      "metadata": {
        "height": 472,
        "id": "8a74cc3e"
      },
      "outputs": [],
      "source": [
        "story = \"\"\"\n",
        "In a recent survey conducted by the government,\n",
        "public sector employees were asked to rate their level\n",
        "of satisfaction with the department they work at.\n",
        "The results revealed that NASA was the most popular\n",
        "department with a satisfaction rating of 95%.\n",
        "\n",
        "One NASA employee, John Smith, commented on the findings,\n",
        "stating, \"I'm not surprised that NASA came out on top.\n",
        "It's a great place to work with amazing people and\n",
        "incredible opportunities. I'm proud to be a part of\n",
        "such an innovative organization.\"\n",
        "\n",
        "The results were also welcomed by NASA's management team,\n",
        "with Director Tom Johnson stating, \"We are thrilled to\n",
        "hear that our employees are satisfied with their work at NASA.\n",
        "We have a talented and dedicated team who work tirelessly\n",
        "to achieve our goals, and it's fantastic to see that their\n",
        "hard work is paying off.\"\n",
        "\n",
        "The survey also revealed that the\n",
        "Social Security Administration had the lowest satisfaction\n",
        "rating, with only 45% of employees indicating they were\n",
        "satisfied with their job. The government has pledged to\n",
        "address the concerns raised by employees in the survey and\n",
        "work towards improving job satisfaction across all departments.\n",
        "\"\"\""
      ]
    },
    {
      "cell_type": "markdown",
      "id": "a8ea91d6-e841-4ee2-bed9-ca4a36df177f",
      "metadata": {
        "id": "a8ea91d6-e841-4ee2-bed9-ca4a36df177f"
      },
      "source": [
        "## Infer 5 topics"
      ]
    },
    {
      "cell_type": "code",
      "execution_count": 12,
      "id": "5c267cbe",
      "metadata": {
        "height": 217,
        "colab": {
          "base_uri": "https://localhost:8080/"
        },
        "id": "5c267cbe",
        "outputId": "0d74c0c4-7b16-4a66-8edd-5729d020e18f"
      },
      "outputs": [
        {
          "output_type": "stream",
          "name": "stdout",
          "text": [
            "1. Survey\n",
            "2. Job satisfaction\n",
            "3. NASA\n",
            "4. Social Security Administration\n",
            "5. Government pledge\n"
          ]
        }
      ],
      "source": [
        "prompt = f\"\"\"\n",
        "Determine five topics that are being discussed in the \\\n",
        "following text, which is delimited by triple backticks.\n",
        "\n",
        "Make each item one or two words long.\n",
        "\n",
        "Format your response as a list of items separated by commas.\n",
        "\n",
        "Text sample: '''{story}'''\n",
        "\"\"\"\n",
        "response = get_completion(prompt)\n",
        "print(response)"
      ]
    },
    {
      "cell_type": "code",
      "execution_count": 13,
      "id": "f92f90fe",
      "metadata": {
        "height": 30,
        "colab": {
          "base_uri": "https://localhost:8080/"
        },
        "id": "f92f90fe",
        "outputId": "331cef08-c154-458b-ddfa-90042de39f62"
      },
      "outputs": [
        {
          "output_type": "execute_result",
          "data": {
            "text/plain": [
              "['1. Survey\\n2. Job satisfaction\\n3. NASA\\n4. Social Security Administration\\n5. Government pledge']"
            ]
          },
          "metadata": {},
          "execution_count": 13
        }
      ],
      "source": [
        "response.split(sep=',')"
      ]
    },
    {
      "cell_type": "code",
      "source": [
        "prompt = f\"\"\"\n",
        "Determine five topics that are being discussed in the \\\n",
        "following text, which is delimited by triple backticks.\n",
        "\n",
        "Make each item one or two words long.\n",
        "\n",
        "Format your response as a comma separated list of topics.\n",
        "\n",
        "Text sample: '''{story}'''\n",
        "\"\"\"\n",
        "response = get_completion(prompt)\n",
        "print(response)"
      ],
      "metadata": {
        "colab": {
          "base_uri": "https://localhost:8080/"
        },
        "id": "M4V6n-KFK2Te",
        "outputId": "23d0acb8-9cc8-4fbd-d554-f4d127e3ea3e"
      },
      "id": "M4V6n-KFK2Te",
      "execution_count": 14,
      "outputs": [
        {
          "output_type": "stream",
          "name": "stdout",
          "text": [
            "Government, Survey, Employee satisfaction, NASA, Social Security Administration\n"
          ]
        }
      ]
    },
    {
      "cell_type": "code",
      "source": [
        "response.split(sep=',')"
      ],
      "metadata": {
        "colab": {
          "base_uri": "https://localhost:8080/"
        },
        "id": "7CGm4K-DK9SN",
        "outputId": "d8985db7-617e-40e3-dafc-b8c3574590c7"
      },
      "id": "7CGm4K-DK9SN",
      "execution_count": 15,
      "outputs": [
        {
          "output_type": "execute_result",
          "data": {
            "text/plain": [
              "['Government',\n",
              " ' Survey',\n",
              " ' Employee satisfaction',\n",
              " ' NASA',\n",
              " ' Social Security Administration']"
            ]
          },
          "metadata": {},
          "execution_count": 15
        }
      ]
    },
    {
      "cell_type": "code",
      "execution_count": 16,
      "id": "94b8fa65",
      "metadata": {
        "height": 81,
        "id": "94b8fa65"
      },
      "outputs": [],
      "source": [
        "topic_list = [\n",
        "    \"nasa\", \"local government\", \"engineering\",\n",
        "    \"employee satisfaction\", \"federal government\"\n",
        "]"
      ]
    },
    {
      "cell_type": "markdown",
      "id": "34be1d2a-1309-4512-841a-b6f67338938b",
      "metadata": {
        "id": "34be1d2a-1309-4512-841a-b6f67338938b"
      },
      "source": [
        "## Make a news alert for certain topics"
      ]
    },
    {
      "cell_type": "code",
      "source": [
        "print(story)"
      ],
      "metadata": {
        "colab": {
          "base_uri": "https://localhost:8080/"
        },
        "id": "KzN0j2EQLKYD",
        "outputId": "a35f8d26-98f3-4c4f-bf01-c75a5d661510"
      },
      "id": "KzN0j2EQLKYD",
      "execution_count": 20,
      "outputs": [
        {
          "output_type": "stream",
          "name": "stdout",
          "text": [
            "\n",
            "In a recent survey conducted by the government, \n",
            "public sector employees were asked to rate their level \n",
            "of satisfaction with the department they work at. \n",
            "The results revealed that NASA was the most popular \n",
            "department with a satisfaction rating of 95%.\n",
            "\n",
            "One NASA employee, John Smith, commented on the findings, \n",
            "stating, \"I'm not surprised that NASA came out on top. \n",
            "It's a great place to work with amazing people and \n",
            "incredible opportunities. I'm proud to be a part of \n",
            "such an innovative organization.\"\n",
            "\n",
            "The results were also welcomed by NASA's management team, \n",
            "with Director Tom Johnson stating, \"We are thrilled to \n",
            "hear that our employees are satisfied with their work at NASA. \n",
            "We have a talented and dedicated team who work tirelessly \n",
            "to achieve our goals, and it's fantastic to see that their \n",
            "hard work is paying off.\"\n",
            "\n",
            "The survey also revealed that the \n",
            "Social Security Administration had the lowest satisfaction \n",
            "rating, with only 45% of employees indicating they were \n",
            "satisfied with their job. The government has pledged to \n",
            "address the concerns raised by employees in the survey and \n",
            "work towards improving job satisfaction across all departments.\n",
            "\n"
          ]
        }
      ]
    },
    {
      "cell_type": "code",
      "execution_count": 22,
      "id": "626c5b8e",
      "metadata": {
        "height": 234,
        "colab": {
          "base_uri": "https://localhost:8080/"
        },
        "id": "626c5b8e",
        "outputId": "dbcd3600-4420-461f-ed7a-a853661b3396"
      },
      "outputs": [
        {
          "output_type": "stream",
          "name": "stdout",
          "text": [
            "{\n",
            "'nasa': 1,\n",
            "'local government': 0,\n",
            "'engineering': 0,\n",
            "'employee satisfaction': 1,\n",
            "'federal government': 1\n",
            "}\n"
          ]
        }
      ],
      "source": [
        "prompt = f\"\"\"\n",
        "Determine whether each item in the following list of \\\n",
        "topics is a topic in the text below, which\n",
        "is delimited with triple backticks.\n",
        "\n",
        "Give your answer as dictionary with topic name as the key\n",
        "and 0 or 1 for each topic.\\\n",
        "\n",
        "List of topics: {\", \".join(topic_list)}\n",
        "\n",
        "Text sample: '''{story}'''\n",
        "\"\"\"\n",
        "response = get_completion(prompt)\n",
        "print(response)"
      ]
    },
    {
      "cell_type": "code",
      "source": [
        "response"
      ],
      "metadata": {
        "colab": {
          "base_uri": "https://localhost:8080/",
          "height": 35
        },
        "id": "bd6392uAL4Tg",
        "outputId": "8798d9aa-eb4e-495a-ee1e-57809b1b533b"
      },
      "id": "bd6392uAL4Tg",
      "execution_count": 27,
      "outputs": [
        {
          "output_type": "execute_result",
          "data": {
            "text/plain": [
              "\"{\\n'nasa': 1,\\n'local government': 0,\\n'engineering': 0,\\n'employee satisfaction': 1,\\n'federal government': 1\\n}\""
            ],
            "application/vnd.google.colaboratory.intrinsic+json": {
              "type": "string"
            }
          },
          "metadata": {},
          "execution_count": 27
        }
      ]
    },
    {
      "cell_type": "code",
      "source": [
        "response.replace('\\n', '')"
      ],
      "metadata": {
        "colab": {
          "base_uri": "https://localhost:8080/",
          "height": 35
        },
        "id": "pndvj9GYLeRq",
        "outputId": "b182793d-e9e0-45ed-a052-7c2d4d426bfe"
      },
      "id": "pndvj9GYLeRq",
      "execution_count": 34,
      "outputs": [
        {
          "output_type": "execute_result",
          "data": {
            "text/plain": [
              "\"{'nasa': 1,'local government': 0,'engineering': 0,'employee satisfaction': 1,'federal government': 1}\""
            ],
            "application/vnd.google.colaboratory.intrinsic+json": {
              "type": "string"
            }
          },
          "metadata": {},
          "execution_count": 34
        }
      ]
    },
    {
      "cell_type": "code",
      "source": [
        "import ast\n",
        "\n",
        "topic_dict = ast.literal_eval(response.replace('\\n', ''))\n",
        "topic_dict"
      ],
      "metadata": {
        "colab": {
          "base_uri": "https://localhost:8080/"
        },
        "id": "iNH6ugQqLrJw",
        "outputId": "1861f892-69dc-4756-e093-84d6a03aa44d"
      },
      "id": "iNH6ugQqLrJw",
      "execution_count": 35,
      "outputs": [
        {
          "output_type": "execute_result",
          "data": {
            "text/plain": [
              "{'nasa': 1,\n",
              " 'local government': 0,\n",
              " 'engineering': 0,\n",
              " 'employee satisfaction': 1,\n",
              " 'federal government': 1}"
            ]
          },
          "metadata": {},
          "execution_count": 35
        }
      ]
    },
    {
      "cell_type": "code",
      "execution_count": 36,
      "id": "902a7c74",
      "metadata": {
        "height": 64,
        "colab": {
          "base_uri": "https://localhost:8080/"
        },
        "id": "902a7c74",
        "outputId": "c4fd0583-0d50-45a8-c8b5-5c3fbac6073e"
      },
      "outputs": [
        {
          "output_type": "stream",
          "name": "stdout",
          "text": [
            "ALERT: New NASA story!\n"
          ]
        }
      ],
      "source": [
        "if topic_dict['nasa'] == 1:\n",
        "    print(\"ALERT: New NASA story!\")"
      ]
    },
    {
      "cell_type": "markdown",
      "id": "f88408ae-469a-4b02-a043-f6b4f0b14bf9",
      "metadata": {
        "id": "f88408ae-469a-4b02-a043-f6b4f0b14bf9"
      },
      "source": [
        "## Try experimenting on your own!"
      ]
    },
    {
      "cell_type": "code",
      "execution_count": null,
      "id": "1bd3553f",
      "metadata": {
        "height": 30,
        "id": "1bd3553f"
      },
      "outputs": [],
      "source": []
    }
  ],
  "metadata": {
    "kernelspec": {
      "display_name": "Python 3 (ipykernel)",
      "language": "python",
      "name": "python3"
    },
    "language_info": {
      "codemirror_mode": {
        "name": "ipython",
        "version": 3
      },
      "file_extension": ".py",
      "mimetype": "text/x-python",
      "name": "python",
      "nbconvert_exporter": "python",
      "pygments_lexer": "ipython3",
      "version": "3.9.16"
    },
    "colab": {
      "provenance": [],
      "include_colab_link": true
    }
  },
  "nbformat": 4,
  "nbformat_minor": 5
}